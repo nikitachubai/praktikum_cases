{
 "cells": [
  {
   "cell_type": "markdown",
   "metadata": {},
   "source": [
    "# Исследование объявлений о продаже квартир\n",
    "\n",
    "В вашем распоряжении данные сервиса Яндекс Недвижимость — архив объявлений о продаже квартир в Санкт-Петербурге и соседних населённых пунктах за несколько лет. Нужно научиться определять рыночную стоимость объектов недвижимости. Ваша задача — установить параметры. \n",
    "\n",
    "Это позволит построить автоматизированную систему: она отследит аномалии и мошенническую деятельность.\n",
    "По каждой квартире на продажу доступны два вида данных. Первые вписаны пользователем, вторые — получены автоматически на основе картографических данных. Например, расстояние до центра, аэропорта, ближайшего парка и водоёма."
   ]
  },
  {
   "cell_type": "markdown",
   "metadata": {},
   "source": [
    "Описание данных\n",
    "- airports_nearest — расстояние до ближайшего аэропорта в метрах (м)\n",
    "- balcony — число балконов\n",
    "- ceiling_height — высота потолков (м)\n",
    "- cityCenters_nearest — расстояние до центра города (м)\n",
    "- days_exposition — сколько дней было размещено объявление (от публикации до снятия)\n",
    "- first_day_exposition — дата публикации\n",
    "- floor — этаж\n",
    "- floors_total — всего этажей в доме\n",
    "- is_apartment — апартаменты (булев тип)\n",
    "- kitchen_area — площадь кухни в квадратных метрах (м²)\n",
    "- last_price — цена на момент снятия с публикации\n",
    "- living_area — жилая площадь в квадратных метрах (м²)\n",
    "- locality_name — название населённого пункта\n",
    "- open_plan — свободная планировка (булев тип)\n",
    "- parks_around3000 — число парков в радиусе 3 км\n",
    "- parks_nearest — расстояние до ближайшего парка (м)\n",
    "- ponds_around3000 — число водоёмов в радиусе 3 км\n",
    "- ponds_nearest — расстояние до ближайшего водоёма (м)\n",
    "- rooms — число комнат\n",
    "- studio — квартира-студия (булев тип)\n",
    "- total_area — площадь квартиры в квадратных метрах (м²)\n",
    "- total_images — число фотографий квартиры в объявлении\n",
    "\n",
    "---"
   ]
  },
  {
   "cell_type": "markdown",
   "metadata": {},
   "source": [
    "# 1. Откроем данные, посмотрим на них"
   ]
  },
  {
   "cell_type": "code",
   "execution_count": 1,
   "metadata": {},
   "outputs": [
    {
     "data": {
      "text/html": [
       "<div>\n",
       "<style scoped>\n",
       "    .dataframe tbody tr th:only-of-type {\n",
       "        vertical-align: middle;\n",
       "    }\n",
       "\n",
       "    .dataframe tbody tr th {\n",
       "        vertical-align: top;\n",
       "    }\n",
       "\n",
       "    .dataframe thead th {\n",
       "        text-align: right;\n",
       "    }\n",
       "</style>\n",
       "<table border=\"1\" class=\"dataframe\">\n",
       "  <thead>\n",
       "    <tr style=\"text-align: right;\">\n",
       "      <th></th>\n",
       "      <th>date_time</th>\n",
       "      <th>id</th>\n",
       "      <th>time_spent</th>\n",
       "      <th>name</th>\n",
       "    </tr>\n",
       "  </thead>\n",
       "  <tbody>\n",
       "    <tr>\n",
       "      <td>0</td>\n",
       "      <td>20180406T165358</td>\n",
       "      <td>76144fb2</td>\n",
       "      <td>98.0</td>\n",
       "      <td>Василек</td>\n",
       "    </tr>\n",
       "    <tr>\n",
       "      <td>1</td>\n",
       "      <td>20180404T173913</td>\n",
       "      <td>76144fb2</td>\n",
       "      <td>15.0</td>\n",
       "      <td>Василек</td>\n",
       "    </tr>\n",
       "    <tr>\n",
       "      <td>2</td>\n",
       "      <td>20180403T172824</td>\n",
       "      <td>76144fb2</td>\n",
       "      <td>220.0</td>\n",
       "      <td>Василек</td>\n",
       "    </tr>\n",
       "    <tr>\n",
       "      <td>3</td>\n",
       "      <td>20180407T070441</td>\n",
       "      <td>76144fb2</td>\n",
       "      <td>19.0</td>\n",
       "      <td>Василек</td>\n",
       "    </tr>\n",
       "    <tr>\n",
       "      <td>4</td>\n",
       "      <td>20180404T132049</td>\n",
       "      <td>76144fb2</td>\n",
       "      <td>14.0</td>\n",
       "      <td>Василек</td>\n",
       "    </tr>\n",
       "    <tr>\n",
       "      <td>...</td>\n",
       "      <td>...</td>\n",
       "      <td>...</td>\n",
       "      <td>...</td>\n",
       "      <td>...</td>\n",
       "    </tr>\n",
       "    <tr>\n",
       "      <td>317099</td>\n",
       "      <td>20180408T053133</td>\n",
       "      <td>9cdb5039</td>\n",
       "      <td>11.0</td>\n",
       "      <td>Гейхера</td>\n",
       "    </tr>\n",
       "    <tr>\n",
       "      <td>317100</td>\n",
       "      <td>20180403T021353</td>\n",
       "      <td>9cdb5039</td>\n",
       "      <td>181.0</td>\n",
       "      <td>Гейхера</td>\n",
       "    </tr>\n",
       "    <tr>\n",
       "      <td>317101</td>\n",
       "      <td>20180408T062636</td>\n",
       "      <td>9cdb5039</td>\n",
       "      <td>252.0</td>\n",
       "      <td>Гейхера</td>\n",
       "    </tr>\n",
       "    <tr>\n",
       "      <td>317102</td>\n",
       "      <td>20180405T232425</td>\n",
       "      <td>9cdb5039</td>\n",
       "      <td>29.0</td>\n",
       "      <td>Гейхера</td>\n",
       "    </tr>\n",
       "    <tr>\n",
       "      <td>317103</td>\n",
       "      <td>20180405T194238</td>\n",
       "      <td>9cdb5039</td>\n",
       "      <td>20.0</td>\n",
       "      <td>Гейхера</td>\n",
       "    </tr>\n",
       "  </tbody>\n",
       "</table>\n",
       "<p>317104 rows × 4 columns</p>\n",
       "</div>"
      ],
      "text/plain": [
       "              date_time        id  time_spent     name\n",
       "0       20180406T165358  76144fb2        98.0  Василек\n",
       "1       20180404T173913  76144fb2        15.0  Василек\n",
       "2       20180403T172824  76144fb2       220.0  Василек\n",
       "3       20180407T070441  76144fb2        19.0  Василек\n",
       "4       20180404T132049  76144fb2        14.0  Василек\n",
       "...                 ...       ...         ...      ...\n",
       "317099  20180408T053133  9cdb5039        11.0  Гейхера\n",
       "317100  20180403T021353  9cdb5039       181.0  Гейхера\n",
       "317101  20180408T062636  9cdb5039       252.0  Гейхера\n",
       "317102  20180405T232425  9cdb5039        29.0  Гейхера\n",
       "317103  20180405T194238  9cdb5039        20.0  Гейхера\n",
       "\n",
       "[317104 rows x 4 columns]"
      ]
     },
     "execution_count": 1,
     "metadata": {},
     "output_type": "execute_result"
    }
   ],
   "source": [
    "import matplotlib.pyplot as plt\n",
    "import pandas as pd\n",
    "import math\n",
    "\n",
    "df = pd.read_csv('/datasets/visits.csv' ,  sep='\\t')\n",
    "\n",
    "df\n",
    "\n",
    "\n"
   ]
  },
  {
   "cell_type": "markdown",
   "metadata": {},
   "source": [
    "### Вывод"
   ]
  },
  {
   "cell_type": "markdown",
   "metadata": {},
   "source": [
    "- 22 стобца очень много на самом деле\n",
    "-повезло, явных дубликатов нет\n",
    "-в названиях пропусков в слове поселок есть Ё и Е\n",
    "- хм, много пропусков \n",
    "  думаю что-то не так с апаратаментами is_apartment (20 924) \n",
    "  опять же что-то не так с парками и водоемами, наверно пользватели хотят преукрасить свое жилье\n",
    "- для balcony, floors_total, days_exposition нужно поменять значения, балконы, кол-во этожей и кол-во дней дожно быть целым\n",
    "\n",
    "-Сначала обрабатываем те значения, которые легче логически заполнить is_apartment:\n",
    "\n",
    "-Смотрим данные\n",
    "-Смотрим количество пропущенных значений\n",
    "\n",
    "-Заполняем пропуски значением \"False\" - оно самое логичное\n",
    "\n",
    "-Проверяем, что пропуски заполнились\n"
   ]
  },
  {
   "cell_type": "markdown",
   "metadata": {},
   "source": [
    "### Шаг 2. Предобработка данных"
   ]
  },
  {
   "cell_type": "code",
   "execution_count": 4,
   "metadata": {},
   "outputs": [
    {
     "name": "stdout",
     "output_type": "stream",
     "text": [
      "value_counts: \n",
      "False    2725\n",
      "True       50\n",
      "Name: is_apartment, dtype: int64\n",
      "\n",
      "isna count: \n",
      "23699\n",
      "\n",
      "value_counts: \n",
      "False    23649\n",
      "True        50\n",
      "Name: is_apartment, dtype: int64\n"
     ]
    }
   ],
   "source": [
    "print (f\"value_counts: \\n{df['is_apartment'].value_counts()}\")\n",
    "print (f\"\\nisna count: \\n{df['is_apartment'].isna().count()}\")\n",
    "df['is_apartment'] = df['is_apartment'].fillna(False)\n",
    "print (f\"\\nvalue_counts: \\n{df['is_apartment'].value_counts()}\")"
   ]
  },
  {
   "cell_type": "markdown",
   "metadata": {},
   "source": [
    "\n",
    "- Смотрю данные\n",
    "\n",
    "- Заполняю пропуски значением \"0.0\" - думаю оно подходит больше всего \n",
    "\n",
    "- Проверяем, что пропуски заполнились\n"
   ]
  },
  {
   "cell_type": "code",
   "execution_count": 5,
   "metadata": {},
   "outputs": [
    {
     "name": "stdout",
     "output_type": "stream",
     "text": [
      "value_counts: \n",
      "1.0    4195\n",
      "0.0    3758\n",
      "2.0    3659\n",
      "5.0     304\n",
      "4.0     183\n",
      "3.0      81\n",
      "Name: balcony, dtype: int64\n",
      "\n",
      "isna count: \n",
      "11519\n",
      "\n",
      "value_counts: \n",
      "0.0    15277\n",
      "1.0     4195\n",
      "2.0     3659\n",
      "5.0      304\n",
      "4.0      183\n",
      "3.0       81\n",
      "Name: balcony, dtype: int64\n",
      "\n",
      "isna count: \n",
      "0\n"
     ]
    }
   ],
   "source": [
    "print (f\"value_counts: \\n{df['balcony'].value_counts()}\")\n",
    "print (f\"\\nisna count: \\n{df['balcony'].isna().sum()}\")\n",
    "df['balcony'] = df['balcony'].fillna(0.0)\n",
    "print (f\"\\nvalue_counts: \\n{df['balcony'].value_counts()}\")\n",
    "print (f\"\\nisna count: \\n{df['balcony'].isna().sum()}\")"
   ]
  },
  {
   "cell_type": "markdown",
   "metadata": {},
   "source": [
    "days_exposition:\n",
    "\n",
    "- У некоторых квартир не заполен столбец \"days_exposition\" (сколько дней было размещено объявление), однако, у всех заполнен \"last_price\" - скорее всего, все квартиры были сняты с публикации, и пропуски в столбце \"days_exposition\" можно заполнить. Заполнение будет происходить в зависимости от даты публикации. Для каждого пропуска каждой даты будем высчитывать медианное значение заполненных дат.\n",
    "\n",
    "- Перед заполнением пропусков в столбце \"days_exposition\" нужно перевести столбец \"first_day_exposition\" в дату, т.к. первый зависит от второго."
   ]
  },
  {
   "cell_type": "code",
   "execution_count": 6,
   "metadata": {},
   "outputs": [
    {
     "name": "stdout",
     "output_type": "stream",
     "text": [
      "Заполняем пропуски в столбце \"days_exposition\"\n",
      "Всего пропусков: \n",
      "3181\n",
      "\n",
      "Проверяем, что пропуски заполнились: \n",
      "0\n"
     ]
    }
   ],
   "source": [
    "df['first_day_exposition'] = pd.to_datetime(df['first_day_exposition'], format='%Y-%m-%dT%H:%M:%S')\n",
    "\n",
    "def get_median_days_exposition(df):\n",
    "    #ф-ия заполнения количества дней размещения медианным значением\n",
    "    years = pd.DatetimeIndex(df['first_day_exposition']).year.value_counts().index\n",
    "    monthes = pd.DatetimeIndex(df['first_day_exposition']).month.value_counts().index\n",
    "\n",
    "    for year in years:\n",
    "        for month in monthes:\n",
    "            median = df[(df['days_exposition'].notna()) & (pd.DatetimeIndex(df['first_day_exposition']).year == year) & (pd.DatetimeIndex(df['first_day_exposition']).month == month)]['days_exposition'].median()\n",
    "            if math.isnan(median):\n",
    "                median = df[(df['days_exposition'].notna()) & (pd.DatetimeIndex(df['first_day_exposition']).year == year)]['days_exposition'].median()\n",
    "            df.loc[((df['days_exposition'].isna()) & (pd.DatetimeIndex(df['first_day_exposition']).year == year) & (pd.DatetimeIndex(df['first_day_exposition']).month == month)), 'days_exposition'] = median\n",
    "            \n",
    "    return df\n",
    "\n",
    "print (\"Заполняем пропуски в столбце \\\"days_exposition\\\"\\nВсего пропусков: \")\n",
    "print (df['days_exposition'].isna().sum())\n",
    "df = get_median_days_exposition(df)\n",
    "\n",
    "print (\"\\nПроверяем, что пропуски заполнились: \")\n",
    "print (df['days_exposition'].isna().sum())"
   ]
  },
  {
   "cell_type": "markdown",
   "metadata": {},
   "source": [
    "\n",
    "living_area:\n",
    "\n",
    "- Проверяем количество пропусков\n",
    "\n",
    "- Ищем зависимости между общей площадью и жилой\n",
    "\n",
    "- Заполняем пропуски\n",
    "\n",
    "- Проверяем, что пропуски заполнились"
   ]
  },
  {
   "cell_type": "code",
   "execution_count": 7,
   "metadata": {},
   "outputs": [
    {
     "name": "stdout",
     "output_type": "stream",
     "text": [
      "isna sum: 1903\n",
      "\n",
      "Ищем зависимости между общей площадью и другими параметрами:\n",
      "                  index  correlation\n",
      "0          total_images     0.104780\n",
      "1            last_price     0.566492\n",
      "2            total_area     0.939537\n",
      "3                 rooms     0.845977\n",
      "4        ceiling_height     0.090650\n",
      "5          floors_total    -0.169311\n",
      "6           living_area     1.000000\n",
      "7                 floor    -0.097210\n",
      "8          is_apartment     0.026969\n",
      "9                studio    -0.056231\n",
      "10            open_plan    -0.033711\n",
      "11         kitchen_area     0.428674\n",
      "12              balcony    -0.014772\n",
      "13     airports_nearest    -0.057912\n",
      "14  cityCenters_nearest    -0.231368\n",
      "15     parks_around3000     0.184453\n",
      "16        parks_nearest    -0.050167\n",
      "17     ponds_around3000     0.148933\n",
      "18        ponds_nearest    -0.081674\n",
      "19      days_exposition     0.115915\n"
     ]
    }
   ],
   "source": [
    "print (f\"isna sum: {df['living_area'].isna().sum()}\")\n",
    "print (\"\\nИщем зависимости между общей площадью и другими параметрами:\")\n",
    "#print (df[df['living_area'].notna()]['living_area'].corr(df[df['total_area'].notna()]['total_area']))\n",
    "#print (df[df['living_area'].notna()]['living_area'].corr(df[df['rooms'].notna()]['rooms']))\n",
    "       \n",
    "print (df.corr()['living_area'].reset_index(name='correlation'))"
   ]
  },
  {
   "cell_type": "markdown",
   "metadata": {},
   "source": [
    "- Обнаружена прямая зависимость между жилой площадью и общей площадью: коэффициент корреляции 0.93\n",
    "\n",
    "- Обнаружена прямая зависимость между жилой площадью и количеством комнат: коэффициент корреляции 0.84\n",
    "\n",
    "- Обнаружена прямая зависимость между жилой площадью и ценой квартиры: коэффициент корреляции 0.56\n",
    "\n",
    "Первые два параметра достаточно сильные, пропуски можно заполнить, опираясь только на них.\n",
    "Заполним пропуски: сначала по общей площади, после по жилой:"
   ]
  },
  {
   "cell_type": "code",
   "execution_count": 8,
   "metadata": {},
   "outputs": [
    {
     "name": "stdout",
     "output_type": "stream",
     "text": [
      "\n",
      "Проверяем, что пропуски заполнились \n",
      "isna sum: 0\n"
     ]
    }
   ],
   "source": [
    "def get_median_living_area(df):\n",
    "    #ф-ия заполнения пропусков в жилой площади медианным значением\"\"\"\n",
    "    areas = df['total_area'].value_counts().index\n",
    "    for area in areas:\n",
    "        median = df[((df['living_area'].notna()) & (df['total_area'] == area))]['living_area'].median()\n",
    "        df.loc[((df['living_area'].isna()) & (df['total_area'] == area)), 'living_area'] = median\n",
    "    \n",
    "    rooms = df['rooms'].value_counts().index\n",
    "    for room in rooms:\n",
    "        median = df[((df['living_area'].notna()) & (df['rooms'] == room))]['living_area'].median()\n",
    "        df.loc[((df['living_area'].isna()) & (df['rooms'] == room)), 'living_area'] = median\n",
    "    \n",
    "    return df\n",
    "\n",
    "df = get_median_living_area(df)\n",
    "print (\"\\nПроверяем, что пропуски заполнились \")\n",
    "print (f\"isna sum: {df['living_area'].isna().sum()}\")"
   ]
  },
  {
   "cell_type": "markdown",
   "metadata": {},
   "source": [
    "\n",
    "Теперь на основе жилой площади можно заполнить площадь кухни. Делим всю жилую площадь на 10 квантилей, ищем медианное значение и заполняем пропуски\n",
    "\n",
    "kitchen_area:\n",
    "\n",
    "- Проверяем количество пропусков\n",
    "\n",
    "- Заполняем пропуски\n",
    "\n",
    "- Проверяем, что пропуски заполнились\n"
   ]
  },
  {
   "cell_type": "code",
   "execution_count": 9,
   "metadata": {},
   "outputs": [
    {
     "name": "stdout",
     "output_type": "stream",
     "text": [
      "isna sum: 2278\n",
      "Заполняем пропуски в столбце \"days_exposition\"\n",
      "Всего пропусков: \n",
      "0\n",
      "\n",
      "Проверяем, что пропуски заполнились: \n",
      "isna sum: 0\n"
     ]
    }
   ],
   "source": [
    "print (f\"isna sum: {df['kitchen_area'].isna().sum()}\")\n",
    "\n",
    "def get_median_kitchen_area(df):\n",
    "    df.sort_values(by='living_area', inplace=True)\n",
    "    df['quantile_areas'] = pd.qcut(df['living_area'], 10, labels=False)\n",
    "    areas = df['quantile_areas'].value_counts().index\n",
    "    for area in areas:\n",
    "        median = df[(df['kitchen_area'].notna()) & (df['quantile_areas'] == area)]['kitchen_area'].median()\n",
    "        df.loc[(df['kitchen_area'].isna()) & (df['quantile_areas'] == area), 'kitchen_area'] = median\n",
    "    \n",
    "    return df\n",
    "\n",
    "print (\"Заполняем пропуски в столбце \\\"days_exposition\\\"\\nВсего пропусков: \")\n",
    "print (df['days_exposition'].isna().sum())\n",
    "       \n",
    "df = get_median_kitchen_area(df)\n",
    "print (\"\\nПроверяем, что пропуски заполнились: \")\n",
    "print (f\"isna sum: {df['kitchen_area'].isna().sum()}\")"
   ]
  },
  {
   "cell_type": "markdown",
   "metadata": {},
   "source": [
    "-Смотрим, сколько всего этажей в домах. На первый взгляд этажей много, как проследить зависимость от других параметров я не млшу сказаьб точно. \n",
    "-Обычно, количество этажей дома не зависит от чего-либо. В одном доме могут быть разные квартиры - однушки, трешки, разной площади и с разными балконами.\n",
    "\n",
    "- floors_total:\n",
    "\n",
    "- Смотрим, сколько всего этажей в домах\n",
    "\n",
    "- Заполняем пропуски средней температурой по больнице\n",
    "\n",
    "- Проверяем, что пропуски заполнились"
   ]
  },
  {
   "cell_type": "code",
   "execution_count": 10,
   "metadata": {},
   "outputs": [
    {
     "name": "stdout",
     "output_type": "stream",
     "text": [
      "isna sum: 86\n",
      "5.0     5788\n",
      "9.0     3761\n",
      "16.0    1376\n",
      "12.0    1362\n",
      "4.0     1200\n",
      "10.0    1174\n",
      "25.0    1075\n",
      "6.0      914\n",
      "17.0     833\n",
      "3.0      668\n",
      "7.0      592\n",
      "14.0     553\n",
      "18.0     505\n",
      "24.0     469\n",
      "8.0      390\n",
      "2.0      383\n",
      "15.0     365\n",
      "23.0     352\n",
      "19.0     339\n",
      "22.0     286\n",
      "20.0     271\n",
      "13.0     229\n",
      "11.0     203\n",
      "27.0     164\n",
      "21.0     158\n",
      "26.0     124\n",
      "1.0       25\n",
      "35.0      24\n",
      "28.0      21\n",
      "36.0       3\n",
      "29.0       1\n",
      "52.0       1\n",
      "33.0       1\n",
      "60.0       1\n",
      "37.0       1\n",
      "34.0       1\n",
      "Name: floors_total, dtype: int64\n",
      "\n",
      "Проверяем, что пропуски заполнились: \n",
      "isna sum: 0\n"
     ]
    }
   ],
   "source": [
    "print (f\"isna sum: {df['floors_total'].isna().sum()}\")\n",
    "print (df[df['floors_total'].notna()]['floors_total'].value_counts())\n",
    "floors_total_mean = df[df['floors_total'].notna()]['floors_total'].mean()\n",
    "df['floors_total'] = df.fillna(floors_total_mean)\n",
    "df['floors_total'] = df['floors_total'].astype(int)\n",
    "print (\"\\nПроверяем, что пропуски заполнились: \")\n",
    "print (f\"isna sum: {df['floors_total'].isna().sum()}\")"
   ]
  },
  {
   "cell_type": "markdown",
   "metadata": {},
   "source": [
    "- Высота потолков не зависит от этажности дома или от площади. \n",
    "\n",
    "- Она напрямую зависит от класса. Если дом высокого класса и комфорта, то потолки будут высокие. \n",
    "\n",
    "- Если же стандартный класс - то потолки будут стандартно 2.67 - 2.72. \n",
    "\n",
    "- Попробуем привязаться к цене дома. Посмотрим, насколько потолок зависит от цены:"
   ]
  },
  {
   "cell_type": "code",
   "execution_count": 11,
   "metadata": {},
   "outputs": [
    {
     "name": "stdout",
     "output_type": "stream",
     "text": [
      "0.08543030982842599\n"
     ]
    }
   ],
   "source": [
    "print (df[df['ceiling_height'].notna()]['ceiling_height'].corr(df[df['ceiling_height'].notna()]['last_price']))"
   ]
  },
  {
   "cell_type": "markdown",
   "metadata": {},
   "source": [
    "- Как видно, коэффициент корреляции стремится к нулю, следовательно, эти величины практически не связаны.\n",
    "\n",
    "- Посмотрим среднюю высоту потолков по всем домам в выборке:"
   ]
  },
  {
   "cell_type": "code",
   "execution_count": 12,
   "metadata": {},
   "outputs": [
    {
     "name": "stdout",
     "output_type": "stream",
     "text": [
      "Средняя: 2.77\n",
      "Медианная: 2.65\n"
     ]
    }
   ],
   "source": [
    "print (f\"Средняя: {df[df['ceiling_height'].notna()]['ceiling_height'].mean().round(2)}\")\n",
    "print (f\"Медианная: {df[df['ceiling_height'].notna()]['ceiling_height'].median()}\")"
   ]
  },
  {
   "cell_type": "markdown",
   "metadata": {},
   "source": [
    "Средний показатель что-то слишком высокий. Запоним пропуски медианным:"
   ]
  },
  {
   "cell_type": "code",
   "execution_count": 13,
   "metadata": {},
   "outputs": [
    {
     "name": "stdout",
     "output_type": "stream",
     "text": [
      "isna sum: 9195\n",
      "\n",
      "Проверяем, что пропуски заполнились: \n",
      "isna sum: 0\n"
     ]
    }
   ],
   "source": [
    "print (f\"isna sum: {df['ceiling_height'].isna().sum()}\")\n",
    "df['ceiling_height'] = df['ceiling_height'].fillna(df['ceiling_height'].median())\n",
    "print (\"\\nПроверяем, что пропуски заполнились: \")\n",
    "print (f\"isna sum: {df['ceiling_height'].isna().sum()}\")"
   ]
  },
  {
   "cell_type": "markdown",
   "metadata": {},
   "source": [
    "Оставшиеся пропуски - данные о местоположении, парках и водоемах поблизости. Эти значения не зависят от других величин. Добавим информацию о том, что для них значение не опредлено."
   ]
  },
  {
   "cell_type": "code",
   "execution_count": 14,
   "metadata": {},
   "outputs": [
    {
     "name": "stdout",
     "output_type": "stream",
     "text": [
      "\n",
      "Заменяем поле last_price на тип int\n",
      "\n",
      "Заодно почистим значения в единственном строковом столбце\n",
      "\n",
      "Проверяем, что все данные заполнились:\n",
      "<class 'pandas.core.frame.DataFrame'>\n",
      "Int64Index: 23699 entries, 21758 to 19540\n",
      "Data columns (total 24 columns):\n",
      "total_images            23699 non-null int64\n",
      "last_price              23699 non-null float64\n",
      "total_area              23699 non-null float64\n",
      "first_day_exposition    23699 non-null datetime64[ns]\n",
      "rooms                   23699 non-null int64\n",
      "ceiling_height          23699 non-null float64\n",
      "floors_total            23699 non-null int64\n",
      "living_area             23699 non-null float64\n",
      "floor                   23699 non-null int64\n",
      "is_apartment            23699 non-null bool\n",
      "studio                  23699 non-null bool\n",
      "open_plan               23699 non-null bool\n",
      "kitchen_area            23699 non-null float64\n",
      "balcony                 23699 non-null float64\n",
      "locality_name           23699 non-null object\n",
      "airports_nearest        23699 non-null float64\n",
      "cityCenters_nearest     23699 non-null float64\n",
      "parks_around3000        23699 non-null float64\n",
      "parks_nearest           23699 non-null float64\n",
      "ponds_around3000        18181 non-null float64\n",
      "ponds_nearest           23699 non-null float64\n",
      "days_exposition         23699 non-null float64\n",
      "quantile_areas          23699 non-null int64\n",
      "last_pice               23699 non-null int64\n",
      "dtypes: bool(3), datetime64[ns](1), float64(13), int64(6), object(1)\n",
      "memory usage: 4.0+ MB\n",
      "None\n"
     ]
    }
   ],
   "source": [
    "df['locality_name'] = df['locality_name'].fillna('undefined')\n",
    "df['airports_nearest'] = df['airports_nearest'].fillna(-999.99)\n",
    "df['cityCenters_nearest'] = df['cityCenters_nearest'].fillna(-999.99)\n",
    "df['parks_around3000'] = df['parks_around3000'].fillna(-999.99)\n",
    "df['parks_nearest'] = df['parks_nearest'].fillna(-999.99)\n",
    "df['ponds_nearest'] = df['ponds_nearest'].fillna(-999.99)\n",
    "\n",
    "print (\"\\nЗаменяем поле last_price на тип int\")\n",
    "df['last_pice'] = df['last_price'].astype(int)\n",
    "df.loc[df['last_pice'] <= 0, 'last_pice'] = df['last_price'].median().astype(int)\n",
    "\n",
    "print (\"\\nЗаодно почистим значения в единственном строковом столбце\")       \n",
    "df['locality_name'] = df['locality_name'].str.strip().str.lower()\n",
    "\n",
    "print (\"\\nПроверяем, что все данные заполнились:\")\n",
    "print (df.info())"
   ]
  },
  {
   "cell_type": "markdown",
   "metadata": {},
   "source": [
    "### Шаг 3. Посчитайте и добавьте в таблицу"
   ]
  },
  {
   "cell_type": "code",
   "execution_count": 15,
   "metadata": {},
   "outputs": [
    {
     "name": "stdout",
     "output_type": "stream",
     "text": [
      "\n",
      "Рассчитываем цену квадратного метра: last_price / total_area\n",
      "\n",
      "Рассчитываем день недели, месяц и год публикации объявления\n",
      "\n",
      "Рассчитываем этаж квартиры: Первый, последний, другой\n",
      "\n",
      "Проверяем, что данные заполнились: \n",
      "другой       19883\n",
      "первый        2917\n",
      "последний      899\n",
      "Name: floor_kind, dtype: int64\n",
      "\n",
      "Расчитываем соотношение жилой площади к общей.\n",
      "\n",
      "Расчитываем соотношение площади кухни к общей площади.\n"
     ]
    }
   ],
   "source": [
    "print (\"\\nРассчитываем цену квадратного метра: last_price / total_area\")\n",
    "df['square_meter_price'] = df['last_price'] / df['total_area']\n",
    "print (\"\\nРассчитываем день недели, месяц и год публикации объявления\")\n",
    "df['day_exposition'] = pd.DatetimeIndex(df['first_day_exposition']).weekday\n",
    "df['month_exposition'] = pd.DatetimeIndex(df['first_day_exposition']).month\n",
    "df['year_exposition'] = pd.DatetimeIndex(df['first_day_exposition']).year\n",
    "print (\"\\nРассчитываем этаж квартиры: Первый, последний, другой\")\n",
    "\n",
    "def get_flat_floor (rows):\n",
    "    floor = rows[0]\n",
    "    floors_total = rows[1]\n",
    "    if floor == 1:\n",
    "        return 'первый'\n",
    "    elif floor == floors_total:\n",
    "        return 'последний'\n",
    "    return 'другой'\n",
    "\n",
    "df['floor_kind'] = df[['floor', 'floors_total']].apply(get_flat_floor, axis=1)\n",
    "print (\"\\nПроверяем, что данные заполнились: \")\n",
    "print (df['floor_kind'].value_counts())\n",
    "print (\"\\nРасчитываем соотношение жилой площади к общей.\")\n",
    "df['living_to_total_area'] = df['living_area'] / df['total_area']\n",
    "print (\"\\nРасчитываем соотношение площади кухни к общей площади.\")\n",
    "df['living_to_total_area'] = df['kitchen_area'] / df['total_area']"
   ]
  },
  {
   "cell_type": "markdown",
   "metadata": {},
   "source": [
    "### Шаг 4. Проведите исследовательский анализ данных и выполните инструкции:"
   ]
  },
  {
   "cell_type": "code",
   "execution_count": 16,
   "metadata": {},
   "outputs": [
    {
     "name": "stdout",
     "output_type": "stream",
     "text": [
      "AxesSubplot(0.125,0.125;0.775x0.755)\n"
     ]
    },
    {
     "data": {
      "image/png": "[encoded data removed]",
      "text/plain": [
       "<Figure size 432x288 with 1 Axes>"
      ]
     },
     "metadata": {
      "needs_background": "light"
     },
     "output_type": "display_data"
    },
    {
     "name": "stdout",
     "output_type": "stream",
     "text": [
      "AxesSubplot(0.125,0.125;0.775x0.755)\n"
     ]
    },
    {
     "data": {
      "image/png": "[encoded data removed]",
      "text/plain": [
       "<Figure size 432x288 with 1 Axes>"
      ]
     },
     "metadata": {
      "needs_background": "light"
     },
     "output_type": "display_data"
    },
    {
     "name": "stdout",
     "output_type": "stream",
     "text": [
      "AxesSubplot(0.125,0.125;0.775x0.755)\n"
     ]
    },
    {
     "data": {
      "image/png": "[encoded data removed]",
      "text/plain": [
       "<Figure size 432x288 with 1 Axes>"
      ]
     },
     "metadata": {
      "needs_background": "light"
     },
     "output_type": "display_data"
    },
    {
     "name": "stdout",
     "output_type": "stream",
     "text": [
      "AxesSubplot(0.125,0.125;0.775x0.755)\n"
     ]
    },
    {
     "data": {
      "image/png": "[encoded data removed]",
      "text/plain": [
       "<Figure size 432x288 with 1 Axes>"
      ]
     },
     "metadata": {
      "needs_background": "light"
     },
     "output_type": "display_data"
    }
   ],
   "source": [
    "def print_hist_plots(df, columns, bins, ranges, ylims, titles):\n",
    "    #печать гистограмм с заданными параметрами\n",
    "    for i in range(0, len(columns)):\n",
    "        print (df[columns[i]].plot(\n",
    "            kind='hist', \n",
    "            bins=bins[i], \n",
    "            range=ranges[i],\n",
    "            ylim=ylims[i],\n",
    "            title=titles[i]\n",
    "        ))\n",
    "        plt.show()\n",
    "    return\n",
    "\n",
    "print_hist_plots(\n",
    "    df, \n",
    "    ['total_area', 'last_price', 'rooms', 'ceiling_height'],\n",
    "    [100, 100, 10, 20],\n",
    "    [(0, 400), (0, 40000000), (0, 9), (2.25, 4)],\n",
    "    [None, None, None, None],\n",
    "    [\n",
    "        'Гистограмма зависимости площади квартиры от количества продаж',\n",
    "        'Гистограмма зависимости цены квартиры от количества продаж',\n",
    "        'Гистограмма зависимости числа комнат в квартире от количества продаж',\n",
    "        'Гистограмма зависимости высоты потолков в квартире от количества продаж',\n",
    "    ]\n",
    ")"
   ]
  },
  {
   "cell_type": "markdown",
   "metadata": {},
   "source": [
    "Проверяем время продажи квартиры"
   ]
  },
  {
   "cell_type": "code",
   "execution_count": 29,
   "metadata": {},
   "outputs": [
    {
     "name": "stdout",
     "output_type": "stream",
     "text": [
      "AxesSubplot(0.125,0.125;0.775x0.755)\n"
     ]
    },
    {
     "data": {
      "image/png": "[encoded data removed]",
      "text/plain": [
       "<Figure size 432x288 with 1 Axes>"
      ]
     },
     "metadata": {
      "needs_background": "light"
     },
     "output_type": "display_data"
    }
   ],
   "source": [
    "print_hist_plots(\n",
    "    df, \n",
    "    ['days_exposition'],\n",
    "    [100],\n",
    "    [(0, 600)],\n",
    "    [None],\n",
    "    [\n",
    "        'Гистограмма зависимости времени продажи квартиры от количества продаж',\n",
    "    ]\n",
    ")"
   ]
  },
  {
   "cell_type": "markdown",
   "metadata": {},
   "source": [
    "- Обычно квартира либо продается сразу, либо в течении 3-х месяцев (90 дней). На гистограмме видно, что после 90-100 дней идет спад количества проданных квартир. \"Хвост\" тянется очень далеко, примерно на 600 днях его можно обрубить - дальше нет смысла рассматривать значения\n",
    "\n",
    "- Убираем хвосты и выбивающиеся значения у диаграмм выше"
   ]
  },
  {
   "cell_type": "code",
   "execution_count": 18,
   "metadata": {},
   "outputs": [
    {
     "name": "stdout",
     "output_type": "stream",
     "text": [
      "AxesSubplot(0.125,0.125;0.775x0.755)\n"
     ]
    },
    {
     "data": {
      "image/png": "[encoded data removed]",
      "text/plain": [
       "<Figure size 432x288 with 1 Axes>"
      ]
     },
     "metadata": {
      "needs_background": "light"
     },
     "output_type": "display_data"
    },
    {
     "name": "stdout",
     "output_type": "stream",
     "text": [
      "AxesSubplot(0.125,0.125;0.775x0.755)\n"
     ]
    },
    {
     "data": {
      "image/png": "[encoded data removed]",
      "text/plain": [
       "<Figure size 432x288 with 1 Axes>"
      ]
     },
     "metadata": {
      "needs_background": "light"
     },
     "output_type": "display_data"
    },
    {
     "name": "stdout",
     "output_type": "stream",
     "text": [
      "AxesSubplot(0.125,0.125;0.775x0.755)\n"
     ]
    },
    {
     "data": {
      "image/png": "[encoded data removed]",
      "text/plain": [
       "<Figure size 432x288 with 1 Axes>"
      ]
     },
     "metadata": {
      "needs_background": "light"
     },
     "output_type": "display_data"
    },
    {
     "name": "stdout",
     "output_type": "stream",
     "text": [
      "AxesSubplot(0.125,0.125;0.775x0.755)\n"
     ]
    },
    {
     "data": {
      "image/png": "[encoded data removed]",
      "text/plain": [
       "<Figure size 432x288 with 1 Axes>"
      ]
     },
     "metadata": {
      "needs_background": "light"
     },
     "output_type": "display_data"
    },
    {
     "name": "stdout",
     "output_type": "stream",
     "text": [
      "AxesSubplot(0.125,0.125;0.775x0.755)\n"
     ]
    },
    {
     "data": {
      "image/png": "[encoded data removed]",
      "text/plain": [
       "<Figure size 432x288 with 1 Axes>"
      ]
     },
     "metadata": {
      "needs_background": "light"
     },
     "output_type": "display_data"
    }
   ],
   "source": [
    "print_hist_plots(\n",
    "    df, \n",
    "    ['total_area', 'last_price', 'rooms', 'ceiling_height', 'days_exposition'],\n",
    "    [80, 30, 5, 10, 80],\n",
    "    [(0, 150), (0, 15000000), (0, 5), (2.25, 3.25), (0, 300)],\n",
    "    [(0, 1100), None, None, None, (0, 600)],\n",
    "    [\n",
    "        'Гистограмма зависимости площади квартиры от количества продаж',\n",
    "        'Гистограмма зависимости цены квартиры от количества продаж',\n",
    "        'Гистограмма зависимости числа комнат в квартире от количества продаж',\n",
    "        'Гистограмма зависимости высоты потолков в квартире от количества продаж',\n",
    "        'Гистограмма зависимости срока продажи квартиры от количества продаж'\n",
    "    ]\n",
    ")"
   ]
  },
  {
   "cell_type": "markdown",
   "metadata": {},
   "source": [
    "<font color=green> Да, теперь автоматизация появилась. Здорово, что она используется во всех пунктах работы.\n",
    "    \n",
    "---"
   ]
  },
  {
   "cell_type": "markdown",
   "metadata": {},
   "source": [
    "На гистограммах выше обнаружены следующие зависимости:\n",
    "\n",
    "- Лучше всего продаются квартиры с площадью от 35 до 60 м^2\n",
    "\n",
    "- Больше всего квартир с ценой от 2.5 до 7 миллионов.\n",
    "\n",
    "- Больше всего пользуются спросом 1,2 и 3-х комнатные квартриры. Реже 4-х.\n",
    "\n",
    "- Самая популярная высота потолков 2.5 - 2.8. Наши предположения подтвердились.\n",
    "\n",
    "- Большинство квартир продается довольно быстро. от 0 до 100-150 дней.\n",
    "\n",
    "Изучаем, какие факторы влияют на стоимость квартиры:"
   ]
  },
  {
   "cell_type": "code",
   "execution_count": 19,
   "metadata": {},
   "outputs": [
    {
     "name": "stdout",
     "output_type": "stream",
     "text": [
      "Зависимость цены от квадратного метра: \n",
      "0.7364988054723014\n",
      "Зависимость цены от этажа: \n",
      "-0.0456290865872808\n",
      "Зависимость цены от количества комнат: \n",
      "0.36334284996489546\n",
      "Зависимость цены от удаленности от цента: \n",
      "-0.20674734874298373\n",
      "Зависимость цены от дня публикации: \n",
      "0.0015501452176215444\n",
      "Зависимость цены от месяца публикации: \n",
      "0.0027791287507397235\n",
      "Зависимость цены от года публикации: \n",
      "-0.04308903619950858\n"
     ]
    }
   ],
   "source": [
    "print (\"Зависимость цены от квадратного метра: \")\n",
    "print (df['last_price'].corr(df['square_meter_price']))\n",
    "print (\"Зависимость цены от этажа: \")\n",
    "df['floor_kind_category'] = df['floor_kind'].astype('category').cat.codes\n",
    "print (df['last_price'].corr(df['floor_kind_category']))\n",
    "print (\"Зависимость цены от количества комнат: \")\n",
    "print (df['last_price'].corr(df['rooms']))\n",
    "print (\"Зависимость цены от удаленности от цента: \")\n",
    "print (df['last_price'].corr(df[df['cityCenters_nearest'] != -999.99]['cityCenters_nearest']))\n",
    "print (\"Зависимость цены от дня публикации: \")\n",
    "print (df['last_price'].corr(df['day_exposition']))\n",
    "print (\"Зависимость цены от месяца публикации: \")\n",
    "print (df['last_price'].corr(df['month_exposition']))\n",
    "print (\"Зависимость цены от года публикации: \")\n",
    "print (df['last_price'].corr(df['year_exposition']))"
   ]
  },
  {
   "cell_type": "markdown",
   "metadata": {},
   "source": [
    "- Цена квартиры напрямую зависит от цены квадратного метра. Так же прослеживается зависимость от количества комнат.\n",
    "\n",
    "- От остальных вышерпдеставленных параметров цена не зависит - коэффициент корреляции меньше 0.1 и стремится к нулю.\n",
    "\n",
    "- 10 населенных пунктов с наибольшим числом объявлений:"
   ]
  },
  {
   "cell_type": "code",
   "execution_count": 20,
   "metadata": {},
   "outputs": [
    {
     "data": {
      "text/html": [
       "<div>\n",
       "<style scoped>\n",
       "    .dataframe tbody tr th:only-of-type {\n",
       "        vertical-align: middle;\n",
       "    }\n",
       "\n",
       "    .dataframe tbody tr th {\n",
       "        vertical-align: top;\n",
       "    }\n",
       "\n",
       "    .dataframe thead th {\n",
       "        text-align: right;\n",
       "    }\n",
       "</style>\n",
       "<table border=\"1\" class=\"dataframe\">\n",
       "  <thead>\n",
       "    <tr style=\"text-align: right;\">\n",
       "      <th></th>\n",
       "      <th>locality_name</th>\n",
       "      <th>count</th>\n",
       "    </tr>\n",
       "  </thead>\n",
       "  <tbody>\n",
       "    <tr>\n",
       "      <td>346</td>\n",
       "      <td>санкт-петербург</td>\n",
       "      <td>15721</td>\n",
       "    </tr>\n",
       "    <tr>\n",
       "      <td>297</td>\n",
       "      <td>посёлок мурино</td>\n",
       "      <td>522</td>\n",
       "    </tr>\n",
       "    <tr>\n",
       "      <td>336</td>\n",
       "      <td>посёлок шушары</td>\n",
       "      <td>440</td>\n",
       "    </tr>\n",
       "    <tr>\n",
       "      <td>4</td>\n",
       "      <td>всеволожск</td>\n",
       "      <td>398</td>\n",
       "    </tr>\n",
       "    <tr>\n",
       "      <td>340</td>\n",
       "      <td>пушкин</td>\n",
       "      <td>369</td>\n",
       "    </tr>\n",
       "    <tr>\n",
       "      <td>134</td>\n",
       "      <td>колпино</td>\n",
       "      <td>338</td>\n",
       "    </tr>\n",
       "    <tr>\n",
       "      <td>302</td>\n",
       "      <td>посёлок парголово</td>\n",
       "      <td>327</td>\n",
       "    </tr>\n",
       "    <tr>\n",
       "      <td>7</td>\n",
       "      <td>гатчина</td>\n",
       "      <td>307</td>\n",
       "    </tr>\n",
       "    <tr>\n",
       "      <td>58</td>\n",
       "      <td>деревня кудрово</td>\n",
       "      <td>299</td>\n",
       "    </tr>\n",
       "    <tr>\n",
       "      <td>5</td>\n",
       "      <td>выборг</td>\n",
       "      <td>237</td>\n",
       "    </tr>\n",
       "  </tbody>\n",
       "</table>\n",
       "</div>"
      ],
      "text/plain": [
       "         locality_name  count\n",
       "346    санкт-петербург  15721\n",
       "297     посёлок мурино    522\n",
       "336     посёлок шушары    440\n",
       "4           всеволожск    398\n",
       "340             пушкин    369\n",
       "134            колпино    338\n",
       "302  посёлок парголово    327\n",
       "7              гатчина    307\n",
       "58     деревня кудрово    299\n",
       "5               выборг    237"
      ]
     },
     "execution_count": 20,
     "metadata": {},
     "output_type": "execute_result"
    }
   ],
   "source": [
    "top_ads = df.groupby('locality_name')['last_price'].count().reset_index(name='count').sort_values(['count'], ascending=False).head(10)\n",
    "top_ads"
   ]
  },
  {
   "cell_type": "markdown",
   "metadata": {},
   "source": [
    " "
   ]
  },
  {
   "cell_type": "code",
   "execution_count": 21,
   "metadata": {},
   "outputs": [
    {
     "data": {
      "text/html": [
       "<div>\n",
       "<style scoped>\n",
       "    .dataframe tbody tr th:only-of-type {\n",
       "        vertical-align: middle;\n",
       "    }\n",
       "\n",
       "    .dataframe tbody tr th {\n",
       "        vertical-align: top;\n",
       "    }\n",
       "\n",
       "    .dataframe thead th {\n",
       "        text-align: right;\n",
       "    }\n",
       "</style>\n",
       "<table border=\"1\" class=\"dataframe\">\n",
       "  <thead>\n",
       "    <tr style=\"text-align: right;\">\n",
       "      <th></th>\n",
       "      <th>locality_name</th>\n",
       "      <th>count</th>\n",
       "      <th>mean_square_price</th>\n",
       "    </tr>\n",
       "  </thead>\n",
       "  <tbody>\n",
       "    <tr>\n",
       "      <td>346</td>\n",
       "      <td>санкт-петербург</td>\n",
       "      <td>15721</td>\n",
       "      <td>104761</td>\n",
       "    </tr>\n",
       "    <tr>\n",
       "      <td>297</td>\n",
       "      <td>посёлок мурино</td>\n",
       "      <td>522</td>\n",
       "      <td>85878</td>\n",
       "    </tr>\n",
       "    <tr>\n",
       "      <td>336</td>\n",
       "      <td>посёлок шушары</td>\n",
       "      <td>440</td>\n",
       "      <td>76876</td>\n",
       "    </tr>\n",
       "    <tr>\n",
       "      <td>4</td>\n",
       "      <td>всеволожск</td>\n",
       "      <td>398</td>\n",
       "      <td>65789</td>\n",
       "    </tr>\n",
       "    <tr>\n",
       "      <td>340</td>\n",
       "      <td>пушкин</td>\n",
       "      <td>369</td>\n",
       "      <td>100000</td>\n",
       "    </tr>\n",
       "    <tr>\n",
       "      <td>134</td>\n",
       "      <td>колпино</td>\n",
       "      <td>338</td>\n",
       "      <td>74723</td>\n",
       "    </tr>\n",
       "    <tr>\n",
       "      <td>302</td>\n",
       "      <td>посёлок парголово</td>\n",
       "      <td>327</td>\n",
       "      <td>91642</td>\n",
       "    </tr>\n",
       "    <tr>\n",
       "      <td>7</td>\n",
       "      <td>гатчина</td>\n",
       "      <td>307</td>\n",
       "      <td>67796</td>\n",
       "    </tr>\n",
       "    <tr>\n",
       "      <td>58</td>\n",
       "      <td>деревня кудрово</td>\n",
       "      <td>299</td>\n",
       "      <td>91860</td>\n",
       "    </tr>\n",
       "    <tr>\n",
       "      <td>5</td>\n",
       "      <td>выборг</td>\n",
       "      <td>237</td>\n",
       "      <td>58158</td>\n",
       "    </tr>\n",
       "  </tbody>\n",
       "</table>\n",
       "</div>"
      ],
      "text/plain": [
       "         locality_name  count  mean_square_price\n",
       "346    санкт-петербург  15721             104761\n",
       "297     посёлок мурино    522              85878\n",
       "336     посёлок шушары    440              76876\n",
       "4           всеволожск    398              65789\n",
       "340             пушкин    369             100000\n",
       "134            колпино    338              74723\n",
       "302  посёлок парголово    327              91642\n",
       "7              гатчина    307              67796\n",
       "58     деревня кудрово    299              91860\n",
       "5               выборг    237              58158"
      ]
     },
     "execution_count": 21,
     "metadata": {},
     "output_type": "execute_result"
    }
   ],
   "source": [
    "#cредняя цена за метр в этих районах\n",
    "def get_mean_square_price(row):\n",
    "    return df[df['locality_name'] == row]['square_meter_price'].median().astype(int)\n",
    "\n",
    "top_ads['mean_square_price'] = top_ads['locality_name'].apply(get_mean_square_price)\n",
    "top_ads"
   ]
  },
  {
   "cell_type": "code",
   "execution_count": 22,
   "metadata": {},
   "outputs": [
    {
     "name": "stdout",
     "output_type": "stream",
     "text": [
      "Самая высокая стоимость жилья в населенном пункте \" санкт-петербург\"\n",
      "Самая низкая стоимость жилья в населенном пункте \" выборг\"\n"
     ]
    }
   ],
   "source": [
    "print (f\"Самая высокая стоимость жилья в населенном пункте \\\"{top_ads.sort_values(by='mean_square_price', ascending=False).head(1)['locality_name'].to_string(index=False)}\\\"\")\n",
    "print (f\"Самая низкая стоимость жилья в населенном пункте \\\"{top_ads.sort_values(by='mean_square_price').head(1)['locality_name'].to_string(index=False)}\\\"\")"
   ]
  },
  {
   "cell_type": "markdown",
   "metadata": {},
   "source": [
    "- Ищем центр Санкт-Петербурга\n",
    "\n",
    "- Отфильтруем данные по местоположению \"Санкт-Петербург\":"
   ]
  },
  {
   "cell_type": "code",
   "execution_count": 23,
   "metadata": {},
   "outputs": [],
   "source": [
    "#Округляем расстояние до центра\n",
    "spb_data = df[(df['locality_name'] == 'санкт-петербург') & (df['cityCenters_nearest'] != -999.99)]\n",
    "spb_data.reset_index(drop=True, inplace=True)"
   ]
  },
  {
   "cell_type": "code",
   "execution_count": 24,
   "metadata": {},
   "outputs": [
    {
     "data": {
      "text/plain": [
       "0    10800000\n",
       "1     7018751\n",
       "2    11225000\n",
       "3     6500000\n",
       "4    11472552\n",
       "Name: city_price_mean, dtype: int64"
      ]
     },
     "execution_count": 24,
     "metadata": {},
     "output_type": "execute_result"
    }
   ],
   "source": [
    "#Считаем среднюю цену для каждого километра:\n",
    "def get_mean_per_m(row):\n",
    "    return spb_data[spb_data['cityCenters_nearest'] == row]['last_price'].median().astype(int)\n",
    "\n",
    "meters = spb_data['cityCenters_nearest'].value_counts().index\n",
    "df_meters = pd.DataFrame({'meters': meters})\n",
    "df_meters['city_price_mean'] = df_meters['meters'].apply(get_mean_per_m)\n",
    "df_meters['city_price_mean'].head()"
   ]
  },
  {
   "cell_type": "markdown",
   "metadata": {},
   "source": [
    "- Решил использовать метры, так более точнее\n",
    "\n",
    "- Построим график, чтобы понять где сильно мемняется цена - ищем центр с города с мажорскими ценами"
   ]
  },
  {
   "cell_type": "code",
   "execution_count": 25,
   "metadata": {},
   "outputs": [
    {
     "data": {
      "text/plain": [
       "<matplotlib.axes._subplots.AxesSubplot at 0x7f1916a800f0>"
      ]
     },
     "execution_count": 25,
     "metadata": {},
     "output_type": "execute_result"
    },
    {
     "data": {
      "image/png": "[encoded data removed]",
      "text/plain": [
       "<Figure size 432x288 with 1 Axes>"
      ]
     },
     "metadata": {
      "needs_background": "light"
     },
     "output_type": "display_data"
    }
   ],
   "source": [
    "df_meters.plot(\n",
    "    kind='scatter',\n",
    "    x='meters',\n",
    "    y='city_price_mean',\n",
    "    title='Зависимость стоимости от расстояния до центра'\n",
    ")"
   ]
  },
  {
   "cell_type": "markdown",
   "metadata": {},
   "source": [
    "- График резко меняется на значении x=7500. Значит, в центр входят все квартиры, у которых расстояне до центра меньше, чем 7500\n"
   ]
  },
  {
   "cell_type": "markdown",
   "metadata": {},
   "source": [
    "### Изучаем зависимости квартир в центральном районе"
   ]
  },
  {
   "cell_type": "code",
   "execution_count": 26,
   "metadata": {},
   "outputs": [
    {
     "name": "stdout",
     "output_type": "stream",
     "text": [
      "\n",
      "Центр Санкт-Петербурга:\n",
      "                   index  correlation\n",
      "0           total_images     0.139547\n",
      "1             last_price     1.000000\n",
      "2             total_area     0.613480\n",
      "3                  rooms     0.314874\n",
      "4         ceiling_height     0.070556\n",
      "5           floors_total     0.139547\n",
      "6            living_area     0.515818\n",
      "7                  floor     0.108597\n",
      "8           is_apartment     0.038371\n",
      "9                 studio    -0.024421\n",
      "10             open_plan     0.011275\n",
      "11          kitchen_area     0.395588\n",
      "12               balcony     0.072374\n",
      "13      airports_nearest     0.079389\n",
      "14   cityCenters_nearest    -0.042186\n",
      "15      parks_around3000     0.118542\n",
      "16         parks_nearest     0.037660\n",
      "17      ponds_around3000     0.101565\n",
      "18         ponds_nearest     0.025402\n",
      "19       days_exposition     0.052421\n",
      "20        quantile_areas     0.263086\n",
      "21             last_pice     1.000000\n",
      "22    square_meter_price     0.796470\n",
      "23        day_exposition     0.028284\n",
      "24      month_exposition    -0.012761\n",
      "25       year_exposition    -0.047101\n",
      "26  living_to_total_area    -0.123046\n",
      "27   floor_kind_category    -0.061422\n",
      "\n",
      "\n",
      "Медиана цены квартиры: 9200000.0\n",
      "Медиана высоты потолков: 2.8\n",
      "Медиана жилой площади: 46.0\n",
      "Медиана площади кухни: 11.9\n",
      "Медиана количества комнат: 3.0\n",
      "\n",
      "\n",
      "Весь город: \n",
      "                   index  correlation\n",
      "0           total_images     0.097348\n",
      "1             last_price     1.000000\n",
      "2             total_area     0.655103\n",
      "3                  rooms     0.371289\n",
      "4         ceiling_height     0.065750\n",
      "5           floors_total     0.097348\n",
      "6            living_area     0.569641\n",
      "7                  floor    -0.000332\n",
      "8           is_apartment     0.024789\n",
      "9                 studio    -0.025025\n",
      "10             open_plan    -0.003351\n",
      "11          kitchen_area     0.453132\n",
      "12               balcony     0.001671\n",
      "13      airports_nearest    -0.017009\n",
      "14   cityCenters_nearest    -0.259507\n",
      "15      parks_around3000     0.156058\n",
      "16         parks_nearest     0.091617\n",
      "17      ponds_around3000     0.172485\n",
      "18         ponds_nearest     0.074956\n",
      "19       days_exposition     0.080428\n",
      "20        quantile_areas     0.320358\n",
      "21             last_pice     1.000000\n",
      "22    square_meter_price     0.761287\n",
      "23        day_exposition     0.006980\n",
      "24      month_exposition    -0.000541\n",
      "25       year_exposition    -0.045329\n",
      "26  living_to_total_area    -0.124740\n",
      "27   floor_kind_category    -0.038721\n",
      "\n",
      "\n",
      "Медиана цены квартиры: 5500000.0\n",
      "Медиана высоты потолков: 2.65\n",
      "Медиана жилой площади: 31.2\n",
      "Медиана площади кухни: 9.7\n",
      "Медиана количества комнат: 2.0\n"
     ]
    }
   ],
   "source": [
    "spb_center = spb_data[spb_data['cityCenters_nearest'] < 7500]\n",
    "spb_center.reset_index(drop=True, inplace=True)\n",
    "\n",
    "def get_median(df, columns, names):\n",
    "    print (\"\\n\")\n",
    "    for i in range(0, len(columns)):\n",
    "        print (f\"Медиана {names[i]}: {df[columns[i]].median().round(3)}\")\n",
    "    return \n",
    "\n",
    "print (\"\\nЦентр Санкт-Петербурга:\")\n",
    "print (spb_center.corr()['last_price'].reset_index(name='correlation'))\n",
    "get_median(\n",
    "    spb_center,\n",
    "    [\n",
    "        'last_price',\n",
    "        'ceiling_height',\n",
    "        'living_area',\n",
    "        'kitchen_area',\n",
    "        'rooms',\n",
    "    ],\n",
    "    [\n",
    "        'цены квартиры',\n",
    "        'высоты потолков',\n",
    "        'жилой площади',\n",
    "        'площади кухни',\n",
    "        'количества комнат',\n",
    "    ]\n",
    ")\n",
    "\n",
    "print (\"\\n\\nВесь город: \")\n",
    "print (spb_data.corr()['last_price'].reset_index(name='correlation'))\n",
    "get_median(\n",
    "    spb_data,\n",
    "    [\n",
    "        'last_price',\n",
    "        'ceiling_height',\n",
    "        'living_area',\n",
    "        'kitchen_area',\n",
    "        'rooms',\n",
    "    ],\n",
    "    [\n",
    "        'цены квартиры',\n",
    "        'высоты потолков',\n",
    "        'жилой площади',\n",
    "        'площади кухни',\n",
    "        'количества комнат',\n",
    "    ]\n",
    ")"
   ]
  },
  {
   "cell_type": "markdown",
   "metadata": {},
   "source": [
    "- Как видим, общие показатели зависимости параметров практически не отличаются. Переведем выше полученные показатели в удобочитаемую таблицу:"
   ]
  },
  {
   "cell_type": "code",
   "execution_count": 27,
   "metadata": {},
   "outputs": [
    {
     "data": {
      "text/html": [
       "<div>\n",
       "<style scoped>\n",
       "    .dataframe tbody tr th:only-of-type {\n",
       "        vertical-align: middle;\n",
       "    }\n",
       "\n",
       "    .dataframe tbody tr th {\n",
       "        vertical-align: top;\n",
       "    }\n",
       "\n",
       "    .dataframe thead th {\n",
       "        text-align: right;\n",
       "    }\n",
       "</style>\n",
       "<table border=\"1\" class=\"dataframe\">\n",
       "  <thead>\n",
       "    <tr style=\"text-align: right;\">\n",
       "      <th></th>\n",
       "      <th>spb_total</th>\n",
       "      <th>spb_center</th>\n",
       "      <th>difference</th>\n",
       "    </tr>\n",
       "  </thead>\n",
       "  <tbody>\n",
       "    <tr>\n",
       "      <td>Зависимость цены от квадратного метра</td>\n",
       "      <td>0.76</td>\n",
       "      <td>0.79</td>\n",
       "      <td>-0.03</td>\n",
       "    </tr>\n",
       "    <tr>\n",
       "      <td>Зависимость цены от этажа</td>\n",
       "      <td>-0.03</td>\n",
       "      <td>-0.06</td>\n",
       "      <td>0.03</td>\n",
       "    </tr>\n",
       "    <tr>\n",
       "      <td>Зависимость цены от количества комнат</td>\n",
       "      <td>0.37</td>\n",
       "      <td>0.31</td>\n",
       "      <td>0.06</td>\n",
       "    </tr>\n",
       "    <tr>\n",
       "      <td>Зависимость цены от удаленности от цента</td>\n",
       "      <td>-0.25</td>\n",
       "      <td>-0.04</td>\n",
       "      <td>-0.21</td>\n",
       "    </tr>\n",
       "    <tr>\n",
       "      <td>Зависимость цены от высоты потолков</td>\n",
       "      <td>0.06</td>\n",
       "      <td>0.07</td>\n",
       "      <td>-0.01</td>\n",
       "    </tr>\n",
       "    <tr>\n",
       "      <td>Зависимость цены от дня публикации</td>\n",
       "      <td>0.00</td>\n",
       "      <td>0.02</td>\n",
       "      <td>-0.02</td>\n",
       "    </tr>\n",
       "    <tr>\n",
       "      <td>Зависимость цены от месяца публикации</td>\n",
       "      <td>0.00</td>\n",
       "      <td>-0.01</td>\n",
       "      <td>0.01</td>\n",
       "    </tr>\n",
       "    <tr>\n",
       "      <td>Зависимость цены от года публикации</td>\n",
       "      <td>-0.04</td>\n",
       "      <td>-0.04</td>\n",
       "      <td>0.00</td>\n",
       "    </tr>\n",
       "    <tr>\n",
       "      <td>Медиана цены квартиры</td>\n",
       "      <td>5500000.00</td>\n",
       "      <td>9200000.00</td>\n",
       "      <td>-3700000.00</td>\n",
       "    </tr>\n",
       "    <tr>\n",
       "      <td>Медиана высоты потолков</td>\n",
       "      <td>2.65</td>\n",
       "      <td>2.80</td>\n",
       "      <td>-0.15</td>\n",
       "    </tr>\n",
       "    <tr>\n",
       "      <td>Медиана жилой площади</td>\n",
       "      <td>31.20</td>\n",
       "      <td>46.00</td>\n",
       "      <td>-14.80</td>\n",
       "    </tr>\n",
       "    <tr>\n",
       "      <td>Медиана площади кухни</td>\n",
       "      <td>9.70</td>\n",
       "      <td>11.90</td>\n",
       "      <td>-2.20</td>\n",
       "    </tr>\n",
       "    <tr>\n",
       "      <td>Медиана количества комнат</td>\n",
       "      <td>2.00</td>\n",
       "      <td>3.00</td>\n",
       "      <td>-1.00</td>\n",
       "    </tr>\n",
       "  </tbody>\n",
       "</table>\n",
       "</div>"
      ],
      "text/plain": [
       "                                           spb_total  spb_center  difference\n",
       "Зависимость цены от квадратного метра           0.76        0.79       -0.03\n",
       "Зависимость цены от этажа                      -0.03       -0.06        0.03\n",
       "Зависимость цены от количества комнат           0.37        0.31        0.06\n",
       "Зависимость цены от удаленности от цента       -0.25       -0.04       -0.21\n",
       "Зависимость цены от высоты потолков             0.06        0.07       -0.01\n",
       "Зависимость цены от дня публикации              0.00        0.02       -0.02\n",
       "Зависимость цены от месяца публикации           0.00       -0.01        0.01\n",
       "Зависимость цены от года публикации            -0.04       -0.04        0.00\n",
       "Медиана цены квартиры                     5500000.00  9200000.00 -3700000.00\n",
       "Медиана высоты потолков                         2.65        2.80       -0.15\n",
       "Медиана жилой площади                          31.20       46.00      -14.80\n",
       "Медиана площади кухни                           9.70       11.90       -2.20\n",
       "Медиана количества комнат                       2.00        3.00       -1.00"
      ]
     },
     "execution_count": 27,
     "metadata": {},
     "output_type": "execute_result"
    }
   ],
   "source": [
    "names = [\n",
    "    'Зависимость цены от квадратного метра', \n",
    "    'Зависимость цены от этажа', \n",
    "    'Зависимость цены от количества комнат', \n",
    "    'Зависимость цены от удаленности от цента',\n",
    "    'Зависимость цены от высоты потолков',\n",
    "    'Зависимость цены от дня публикации',\n",
    "    'Зависимость цены от месяца публикации',\n",
    "    'Зависимость цены от года публикации',\n",
    "    'Медиана цены квартиры',\n",
    "    'Медиана высоты потолков',\n",
    "    'Медиана жилой площади',\n",
    "    'Медиана площади кухни',\n",
    "    'Медиана количества комнат',\n",
    "]\n",
    "\n",
    "city_total_spb = { \n",
    "    'spb_total': [0.76, -0.03, 0.37, -0.25, 0.06, 0.00, 0.00, -0.04, 5500000.0, 2.65, 31.2, 9.7, 2.0],\n",
    "    'spb_center': [0.79, -0.06, 0.31, -0.04, 0.07, 0.02, -0.01, -0.04, 9200000.0, 2.8, 46.0, 11.9, 3.0]\n",
    "}\n",
    "\n",
    "compare_df = pd.DataFrame(city_total_spb, index=names)\n",
    "compare_df['difference'] = (compare_df['spb_total'] - compare_df['spb_center']).round(2)\n",
    "compare_df"
   ]
  },
  {
   "cell_type": "code",
   "execution_count": 28,
   "metadata": {},
   "outputs": [
    {
     "name": "stdout",
     "output_type": "stream",
     "text": [
      "AxesSubplot(0.125,0.125;0.775x0.755)\n"
     ]
    },
    {
     "data": {
      "image/png": "[encoded data removed]",
      "text/plain": [
       "<Figure size 432x288 with 1 Axes>"
      ]
     },
     "metadata": {
      "needs_background": "light"
     },
     "output_type": "display_data"
    },
    {
     "name": "stdout",
     "output_type": "stream",
     "text": [
      "AxesSubplot(0.125,0.125;0.775x0.755)\n"
     ]
    },
    {
     "data": {
      "image/png": "[encoded data removed]",
      "text/plain": [
       "<Figure size 432x288 with 1 Axes>"
      ]
     },
     "metadata": {
      "needs_background": "light"
     },
     "output_type": "display_data"
    },
    {
     "name": "stdout",
     "output_type": "stream",
     "text": [
      "AxesSubplot(0.125,0.125;0.775x0.755)\n"
     ]
    },
    {
     "data": {
      "image/png": "[encoded data removed]",
      "text/plain": [
       "<Figure size 432x288 with 1 Axes>"
      ]
     },
     "metadata": {
      "needs_background": "light"
     },
     "output_type": "display_data"
    },
    {
     "name": "stdout",
     "output_type": "stream",
     "text": [
      "AxesSubplot(0.125,0.125;0.775x0.755)\n"
     ]
    },
    {
     "data": {
      "image/png": "[encoded data removed]",
      "text/plain": [
       "<Figure size 432x288 with 1 Axes>"
      ]
     },
     "metadata": {
      "needs_background": "light"
     },
     "output_type": "display_data"
    }
   ],
   "source": [
    "print_hist_plots(\n",
    "    spb_center, \n",
    "    ['last_price', 'rooms', 'ceiling_height', 'days_exposition'],\n",
    "    [30, 5, 10, 50],\n",
    "    [(0, 15000000), (0, 5), (2.25, 3.25), (0, 300)],\n",
    "    [None, None, None, (0, 200)],\n",
    "    [\n",
    "        'Гистограмма зависимости цены квартиры от количества продаж',\n",
    "        'Гистограмма зависимости числа комнат в квартире от количества продаж',\n",
    "        'Гистограмма зависимости высоты потолков в квартире от количества продаж',\n",
    "        'Гистограмма зависимости срока продажи квартиры от количества продаж'\n",
    "    ]\n",
    ")"
   ]
  },
  {
   "cell_type": "markdown",
   "metadata": {},
   "source": [
    "### Шаг 5. Общий вывод"
   ]
  },
  {
   "cell_type": "markdown",
   "metadata": {},
   "source": [
    "Недвижимость в центре Петербурга ожидаемо стоит дороже остальных населенных пунктов.\n",
    "Ближе к центру города дороже. Однако в пределах центра стоимость +/- однинаковая.\n",
    "Факторы, влияющие на стоимость:\n",
    "общая площадь\n",
    "кол-во комнат\n",
    "высота потолков\n",
    "\n",
    "На стоимость квартиры прямо и очень сильно влияют:\n",
    "\n",
    "Цена квадратного метра\n",
    "Расположение квартиры\n",
    "Количество комнат\n",
    "В центре Санкт-Петербурга квартиры неоправданно дорогие. Интересное наблюдение, квартиры в таких домах, обычно, имеют высокие потолки, большую жилую площадь, большую кухню и не менее 3-х комнат. Так же, согласно последним графикам, квартиры в центре довольно быстро продаются.\n",
    "Определены параметры, которые прямо влияют на стоимость квартиры:\n",
    "\n",
    "Расположение квартиры (город/пригород, центр/не центр)\n",
    "Количетво комнат\n",
    "Жилай площадь\n",
    "Количество комнат\n",
    "Второстепенные данные, такие как \"высота потолков, дата публикации\" оказывают незначительное влияние на ценообразование."
   ]
  },
  {
   "cell_type": "markdown",
   "metadata": {},
   "source": [
    "### Чек-лист готовности проекта\n",
    "\n",
    "Поставьте 'x' в выполненных пунктах. Далее нажмите Shift+Enter."
   ]
  },
  {
   "cell_type": "markdown",
   "metadata": {},
   "source": [
    "- [x]  открыт файл\n",
    "- [x]  файлы изучены (выведены первые строки, метод info())\n",
    "- [x]  определены пропущенные значения\n",
    "- [x]  заполнены пропущенные значения\n",
    "- [x]  есть пояснение какие пропущенные значения обнаружены\n",
    "- [x]  изменены типы данных\n",
    "- [x]  есть пояснение в каких столбцах изменены типы и почему\n",
    "- [x]  посчитано и добавлено в таблицу: цена квадратного метра\n",
    "- [x]  посчитано и добавлено в таблицу: день недели, месяц и год публикации объявления\n",
    "- [x]  посчитано и добавлено в таблицу: этаж квартиры; варианты — первый, последний, другой\n",
    "- [x]  посчитано и добавлено в таблицу: соотношение жилой и общей площади, а также отношение площади кухни к общей\n",
    "- [x]  изучены следующие параметры: площадь, цена, число комнат, высота потолков\n",
    "- [x]  построены гистограммы для каждого параметра\n",
    "- [x]  выполнено задание: \"Изучите время продажи квартиры. Постройте гистограмму. Посчитайте среднее и медиану. Опишите, сколько обычно занимает продажа. Когда можно считать, что продажи прошли очень быстро, а когда необычно долго?\"\n",
    "- [x]  выполнено задание: \"Уберите редкие и выбивающиеся значения. Опишите, какие особенности обнаружили.\"\n",
    "- [x]  выполнено задание: \"Какие факторы больше всего влияют на стоимость квартиры? Изучите, зависит ли цена от квадратного метра, числа комнат, этажа (первого или последнего), удалённости от центра. Также изучите зависимость от даты размещения: дня недели, месяца и года. \"Выберите 10 населённых пунктов с наибольшим числом объявлений. Посчитайте среднюю цену квадратного метра в этих населённых пунктах. Выделите населённые пункты с самой высокой и низкой стоимостью жилья. Эти данные можно найти по имени в столбце '*locality_name'*. \"\n",
    "- [x]  выполнено задание: \"Изучите предложения квартир: для каждой квартиры есть информация о расстоянии до центра. Выделите квартиры в Санкт-Петербурге (*'locality_name'*). Ваша задача — выяснить, какая область входит в центр. Создайте столбец с расстоянием до центра в километрах: округлите до целых значений. После этого посчитайте среднюю цену для каждого километра. Постройте график: он должен показывать, как цена зависит от удалённости от центра. Определите границу, где график сильно меняется — это и будет центральная зона. \"\n",
    "- [x]  выполнено задание: \"Выделите сегмент квартир в центре. Проанализируйте эту территорию и изучите следующие параметры: площадь, цена, число комнат, высота потолков. Также выделите факторы, которые влияют на стоимость квартиры (число комнат, этаж, удалённость от центра, дата размещения объявления). Сделайте выводы. Отличаются ли они от общих выводов по всему городу?\"\n",
    "- [x]  в каждом этапе есть выводы\n",
    "- [x]  есть общий вывод"
   ]
  },
  {
   "cell_type": "code",
   "execution_count": null,
   "metadata": {},
   "outputs": [],
   "source": []
  }
 ],
 "metadata": {
  "kernelspec": {
   "display_name": "Python 3",
   "language": "python",
   "name": "python3"
  },
  "language_info": {
   "codemirror_mode": {
    "name": "ipython",
    "version": 3
   },
   "file_extension": ".py",
   "mimetype": "text/x-python",
   "name": "python",
   "nbconvert_exporter": "python",
   "pygments_lexer": "ipython3",
   "version": "3.7.3"
  },
  "toc": {
   "base_numbering": 1,
   "nav_menu": {},
   "number_sections": true,
   "sideBar": true,
   "skip_h1_title": true,
   "title_cell": "Table of Contents",
   "title_sidebar": "Contents",
   "toc_cell": false,
   "toc_position": {},
   "toc_section_display": true,
   "toc_window_display": false
  }
 },
 "nbformat": 4,
 "nbformat_minor": 2
}
